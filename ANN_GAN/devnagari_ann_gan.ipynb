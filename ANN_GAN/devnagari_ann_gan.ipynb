{
 "cells": [
  {
   "cell_type": "markdown",
   "metadata": {},
   "source": [
    "# GAN to generate Devanagari characters using MLP based nets"
   ]
  },
  {
   "cell_type": "code",
   "execution_count": 1,
   "metadata": {},
   "outputs": [],
   "source": [
    "import torch\n",
    "import torch.nn as nn\n",
    "import torch.nn.functional as F\n",
    "from torch.utils.data import DataLoader\n",
    "from torchvision import datasets, transforms, models\n",
    "from torchvision.utils import make_grid, save_image\n",
    "import torch.optim as optim\n",
    "\n",
    "import os\n",
    "import time\n",
    "from datetime import datetime\n",
    "\n",
    "import numpy as np\n",
    "import pandas as pd\n",
    "import matplotlib.pyplot as plt\n",
    "from sklearn.metrics import confusion_matrix\n",
    "import seaborn as sns\n",
    "\n",
    "%matplotlib inline\n"
   ]
  },
  {
   "cell_type": "code",
   "execution_count": 2,
   "metadata": {
    "scrolled": true
   },
   "outputs": [
    {
     "name": "stdout",
     "output_type": "stream",
     "text": [
      "Running on device: cuda:0\n",
      "Using GPU: TITAN RTX\n"
     ]
    }
   ],
   "source": [
    "use_cuda = torch.cuda.is_available()\n",
    "device = torch.device(\"cuda:0\" if use_cuda else \"cpu\")\n",
    "print('Running on device:', device)\n",
    "if use_cuda:\n",
    "    print('Using GPU:',\n",
    "          torch.cuda.get_device_name(torch.cuda.current_device()))\n",
    "\n",
    "def get_current_time_str():\n",
    "    return str(datetime.now().strftime(\"%d-%b-%Y_%H_%M_%S\"))"
   ]
  },
  {
   "cell_type": "markdown",
   "metadata": {},
   "source": [
    "# Create data-loaders"
   ]
  },
  {
   "cell_type": "code",
   "execution_count": 21,
   "metadata": {},
   "outputs": [
    {
     "name": "stdout",
     "output_type": "stream",
     "text": [
      "Training images available: 78200\n"
     ]
    }
   ],
   "source": [
    "batch_size = 128\n",
    "\n",
    "root = 'devnagari_data/'\n",
    "expr_name = 'devnagari_ann_gan'\n",
    "model_name_D = expr_name  + '_D'+ '_PyTorch_model.pt'\n",
    "model_name_G = expr_name  + '_G'+ '_PyTorch_model.pt'\n",
    "gan_out_dir = expr_name + '_samples'\n",
    "if not os.path.exists(gan_out_dir):\n",
    "    os.mkdir(gan_out_dir)\n",
    "\n",
    "train_transform = transforms.Compose([\n",
    "    transforms.Grayscale(num_output_channels=1),\n",
    "    transforms.ToTensor(),\n",
    "    ])\n",
    "\n",
    "train_data = datasets.ImageFolder(os.path.join(root, 'Train'),\n",
    "                                  transform=train_transform)\n",
    "train_data_len = len(train_data)\n",
    "train_loader = DataLoader(train_data, batch_size=batch_size, shuffle=True)\n",
    "class_names = train_data.classes\n",
    "num_of_classes = len(train_data.classes)\n",
    "\n",
    "print(f'Training images available: {len(train_data)}')"
   ]
  },
  {
   "cell_type": "markdown",
   "metadata": {},
   "source": [
    "# Generator and Discriminator Models"
   ]
  },
  {
   "cell_type": "code",
   "execution_count": 4,
   "metadata": {},
   "outputs": [],
   "source": [
    "class Generator(nn.Module):\n",
    "    def __init__(self, g_input_dim, g_hidden_size, g_output_dim):\n",
    "        super(Generator, self).__init__()\n",
    "        self.fc1 = nn.Linear(g_input_dim, g_hidden_size)\n",
    "        self.fc2 = nn.Linear(g_hidden_size, g_hidden_size * 2)\n",
    "        self.fc3 = nn.Linear(g_hidden_size * 2, g_hidden_size * 4)\n",
    "        self.fc4 = nn.Linear(g_hidden_size * 4, g_output_dim)\n",
    "        self.dropout = nn.Dropout(0.3)\n",
    "\n",
    "    # forward method\n",
    "    def forward(self, x):\n",
    "        x = F.leaky_relu(self.fc1(x), 0.2)\n",
    "        x = self.dropout(x)\n",
    "        x = F.leaky_relu(self.fc2(x), 0.2)\n",
    "        x = self.dropout(x)\n",
    "        x = F.leaky_relu(self.fc3(x), 0.2)\n",
    "        x = self.dropout(x)\n",
    "        return torch.tanh(self.fc4(x))\n",
    "\n",
    "\n",
    "class Discriminator(nn.Module):\n",
    "    def __init__(self, d_input_dim, d_hidden_size, d_output_dim, image_w=32):\n",
    "        super(Discriminator, self).__init__()\n",
    "        self.image_w = image_w\n",
    "        self.fc1 = nn.Linear(d_input_dim, d_hidden_size * 4)\n",
    "        self.fc2 = nn.Linear(d_hidden_size * 4, d_hidden_size * 2)\n",
    "        self.fc3 = nn.Linear(d_hidden_size * 2, d_hidden_size)\n",
    "        self.fc4 = nn.Linear(d_hidden_size, d_output_dim)\n",
    "        self.dropout = nn.Dropout(0.3)\n",
    "    # forward method\n",
    "    def forward(self, x):\n",
    "        x = x.view(-1, self.image_w * self.image_w)\n",
    "        x = F.leaky_relu(self.fc1(x), 0.2)\n",
    "        x = F.dropout(x, 0.3)\n",
    "        x = F.leaky_relu(self.fc2(x), 0.2)\n",
    "        x = F.dropout(x, 0.3)\n",
    "        x = F.leaky_relu(self.fc3(x), 0.2)\n",
    "        x = F.dropout(x, 0.3)\n",
    "        return torch.sigmoid(self.fc4(x))"
   ]
  },
  {
   "cell_type": "markdown",
   "metadata": {},
   "source": [
    "# Model hyper-params and Model objects"
   ]
  },
  {
   "cell_type": "code",
   "execution_count": 5,
   "metadata": {
    "scrolled": true
   },
   "outputs": [
    {
     "name": "stdout",
     "output_type": "stream",
     "text": [
      "Generator(\n",
      "  (fc1): Linear(in_features=128, out_features=64, bias=True)\n",
      "  (fc2): Linear(in_features=64, out_features=128, bias=True)\n",
      "  (fc3): Linear(in_features=128, out_features=256, bias=True)\n",
      "  (fc4): Linear(in_features=256, out_features=1024, bias=True)\n",
      "  (dropout): Dropout(p=0.3, inplace=False)\n",
      ")\n",
      "Discriminator(\n",
      "  (fc1): Linear(in_features=1024, out_features=256, bias=True)\n",
      "  (fc2): Linear(in_features=256, out_features=128, bias=True)\n",
      "  (fc3): Linear(in_features=128, out_features=64, bias=True)\n",
      "  (fc4): Linear(in_features=64, out_features=1, bias=True)\n",
      "  (dropout): Dropout(p=0.3, inplace=False)\n",
      ")\n"
     ]
    }
   ],
   "source": [
    "# build network\n",
    "z_dim = 128\n",
    "image_dim_w = 32\n",
    "image_dim_h = 32\n",
    "g_hidden_size = 64\n",
    "d_hidden_size = 64\n",
    "image_dim = image_dim_w * image_dim_h\n",
    "\n",
    "G = Generator(g_input_dim=z_dim,\n",
    "              g_hidden_size=d_hidden_size,\n",
    "              g_output_dim=image_dim).to(device)\n",
    "D = Discriminator(d_input_dim=image_dim,\n",
    "                  d_hidden_size=d_hidden_size,\n",
    "                  d_output_dim=1).to(device)\n",
    "print(G)\n",
    "print(D)"
   ]
  },
  {
   "cell_type": "code",
   "execution_count": 6,
   "metadata": {},
   "outputs": [],
   "source": [
    "# loss\n",
    "criterion = nn.BCELoss()\n",
    "\n",
    "# optimizer\n",
    "learing_rate = 0.0002\n",
    "G_optimizer = optim.Adam(G.parameters(), lr=learing_rate)\n",
    "D_optimizer = optim.Adam(D.parameters(), lr=learing_rate)"
   ]
  },
  {
   "cell_type": "markdown",
   "metadata": {},
   "source": [
    "# Loss calculation helper functions"
   ]
  },
  {
   "cell_type": "code",
   "execution_count": 7,
   "metadata": {},
   "outputs": [],
   "source": [
    "def real_loss(D_out, smooth=False):\n",
    "    batch_size = D_out.size(0)\n",
    "    \n",
    "    if smooth:\n",
    "        lables = torch.ones(batch_size) * 0.9\n",
    "    else:\n",
    "        lables = torch.ones(batch_size)\n",
    "    \n",
    "    lables = lables.to(device)\n",
    "    loss = criterion(D_out.squeeze(), lables)\n",
    "    \n",
    "    return loss\n",
    "\n",
    "def fake_loss(D_out):\n",
    "    batch_size = D_out.size(0)\n",
    "    \n",
    "    lables = torch.zeros(batch_size).to(device)\n",
    "    loss = criterion(D_out.squeeze(), lables)\n",
    "    \n",
    "    return loss\n",
    "    "
   ]
  },
  {
   "cell_type": "markdown",
   "metadata": {},
   "source": [
    "# Training loop"
   ]
  },
  {
   "cell_type": "code",
   "execution_count": 8,
   "metadata": {
    "scrolled": true
   },
   "outputs": [
    {
     "name": "stdout",
     "output_type": "stream",
     "text": [
      "epoch[1/100]: loss_d: 0.73117822, loss_g: 1.39727360\n",
      "epoch[2/100]: loss_d: 0.33532687, loss_g: 3.23110271\n",
      "epoch[3/100]: loss_d: 0.17907207, loss_g: 4.37261724\n",
      "epoch[4/100]: loss_d: 0.12789836, loss_g: 4.74502086\n",
      "epoch[5/100]: loss_d: 0.14644973, loss_g: 5.07503987\n",
      "epoch[6/100]: loss_d: 0.20426565, loss_g: 4.66954121\n",
      "epoch[7/100]: loss_d: 0.17788254, loss_g: 4.71931038\n",
      "epoch[8/100]: loss_d: 0.23835346, loss_g: 4.37422822\n",
      "epoch[9/100]: loss_d: 0.21921286, loss_g: 4.22318083\n",
      "epoch[10/100]: loss_d: 0.24292506, loss_g: 4.17582140\n",
      "epoch[11/100]: loss_d: 0.26990123, loss_g: 3.96757324\n",
      "epoch[12/100]: loss_d: 0.28305724, loss_g: 3.95529331\n",
      "epoch[13/100]: loss_d: 0.34058559, loss_g: 3.73606525\n",
      "epoch[14/100]: loss_d: 0.35092480, loss_g: 3.58257916\n",
      "epoch[15/100]: loss_d: 0.38268869, loss_g: 3.46452850\n",
      "epoch[16/100]: loss_d: 0.40113856, loss_g: 3.31335890\n",
      "epoch[17/100]: loss_d: 0.44372168, loss_g: 3.15626379\n",
      "epoch[18/100]: loss_d: 0.45661789, loss_g: 3.07186215\n",
      "epoch[19/100]: loss_d: 0.47449715, loss_g: 2.99436880\n",
      "epoch[20/100]: loss_d: 0.50390180, loss_g: 2.86876469\n",
      "epoch[21/100]: loss_d: 0.53285815, loss_g: 2.74843525\n",
      "epoch[22/100]: loss_d: 0.54247915, loss_g: 2.73993385\n",
      "epoch[23/100]: loss_d: 0.58164059, loss_g: 2.59621620\n",
      "epoch[24/100]: loss_d: 0.62528409, loss_g: 2.45144402\n",
      "epoch[25/100]: loss_d: 0.62965276, loss_g: 2.42870463\n",
      "epoch[26/100]: loss_d: 0.64310526, loss_g: 2.41821391\n",
      "epoch[27/100]: loss_d: 0.67528436, loss_g: 2.32463331\n",
      "epoch[28/100]: loss_d: 0.68365577, loss_g: 2.26688829\n",
      "epoch[29/100]: loss_d: 0.69571632, loss_g: 2.23049693\n",
      "epoch[30/100]: loss_d: 0.71400852, loss_g: 2.21132323\n",
      "epoch[31/100]: loss_d: 0.73485971, loss_g: 2.14848814\n",
      "epoch[32/100]: loss_d: 0.75923675, loss_g: 2.05317265\n",
      "epoch[33/100]: loss_d: 0.73069430, loss_g: 2.15719410\n",
      "epoch[34/100]: loss_d: 0.74985724, loss_g: 2.08207594\n",
      "epoch[35/100]: loss_d: 0.73853844, loss_g: 2.13379664\n",
      "epoch[36/100]: loss_d: 0.76928404, loss_g: 2.04443625\n",
      "epoch[37/100]: loss_d: 0.76820624, loss_g: 2.03598376\n",
      "epoch[38/100]: loss_d: 0.77290468, loss_g: 2.01831997\n",
      "epoch[39/100]: loss_d: 0.76490435, loss_g: 2.03693500\n",
      "epoch[40/100]: loss_d: 0.76958713, loss_g: 2.05019704\n",
      "epoch[41/100]: loss_d: 0.75461203, loss_g: 2.07398083\n",
      "epoch[42/100]: loss_d: 0.73099110, loss_g: 2.10890384\n",
      "epoch[43/100]: loss_d: 0.74501313, loss_g: 2.07678331\n",
      "epoch[44/100]: loss_d: 0.75134432, loss_g: 2.07967214\n",
      "epoch[45/100]: loss_d: 0.75348450, loss_g: 2.04425720\n",
      "epoch[46/100]: loss_d: 0.75083161, loss_g: 2.03836665\n",
      "epoch[47/100]: loss_d: 0.73503313, loss_g: 2.09288310\n",
      "epoch[48/100]: loss_d: 0.72520767, loss_g: 2.13306840\n",
      "epoch[49/100]: loss_d: 0.73195615, loss_g: 2.09116779\n",
      "epoch[50/100]: loss_d: 0.74490966, loss_g: 2.05106413\n",
      "epoch[51/100]: loss_d: 0.73654541, loss_g: 2.05111164\n",
      "epoch[52/100]: loss_d: 0.73540866, loss_g: 2.06314719\n",
      "epoch[53/100]: loss_d: 0.74227066, loss_g: 2.06975496\n",
      "epoch[54/100]: loss_d: 0.73941299, loss_g: 2.05907543\n",
      "epoch[55/100]: loss_d: 0.73611809, loss_g: 2.03606263\n",
      "epoch[56/100]: loss_d: 0.75012414, loss_g: 2.02223034\n",
      "epoch[57/100]: loss_d: 0.74147461, loss_g: 2.02727507\n",
      "epoch[58/100]: loss_d: 0.74330364, loss_g: 2.06881220\n",
      "epoch[59/100]: loss_d: 0.74851341, loss_g: 2.02434151\n",
      "epoch[60/100]: loss_d: 0.73687621, loss_g: 2.04076882\n",
      "epoch[61/100]: loss_d: 0.75058588, loss_g: 2.02455128\n",
      "epoch[62/100]: loss_d: 0.75098620, loss_g: 1.99294560\n",
      "epoch[63/100]: loss_d: 0.75863749, loss_g: 1.98206346\n",
      "epoch[64/100]: loss_d: 0.76598468, loss_g: 1.94272358\n",
      "epoch[65/100]: loss_d: 0.77182017, loss_g: 1.95255434\n",
      "epoch[66/100]: loss_d: 0.77319806, loss_g: 1.94691410\n",
      "epoch[67/100]: loss_d: 0.77165887, loss_g: 1.95612174\n",
      "epoch[68/100]: loss_d: 0.77081384, loss_g: 1.94714959\n",
      "epoch[69/100]: loss_d: 0.77267560, loss_g: 1.94828382\n",
      "epoch[70/100]: loss_d: 0.76179409, loss_g: 1.95177255\n",
      "epoch[71/100]: loss_d: 0.76605816, loss_g: 1.94857936\n",
      "epoch[72/100]: loss_d: 0.77504429, loss_g: 1.92344175\n",
      "epoch[73/100]: loss_d: 0.77245216, loss_g: 1.93502180\n",
      "epoch[74/100]: loss_d: 0.76445100, loss_g: 1.95135868\n",
      "epoch[75/100]: loss_d: 0.77397064, loss_g: 1.91418676\n",
      "epoch[76/100]: loss_d: 0.78092670, loss_g: 1.89884429\n",
      "epoch[77/100]: loss_d: 0.77225778, loss_g: 1.92017527\n",
      "epoch[78/100]: loss_d: 0.79814658, loss_g: 1.87969812\n",
      "epoch[79/100]: loss_d: 0.78678293, loss_g: 1.88876995\n",
      "epoch[80/100]: loss_d: 0.78856100, loss_g: 1.87522480\n",
      "epoch[81/100]: loss_d: 0.79123961, loss_g: 1.84246008\n",
      "epoch[82/100]: loss_d: 0.79298751, loss_g: 1.87266132\n",
      "epoch[83/100]: loss_d: 0.78640739, loss_g: 1.86922567\n",
      "epoch[84/100]: loss_d: 0.79599315, loss_g: 1.85975627\n",
      "epoch[85/100]: loss_d: 0.78956206, loss_g: 1.87639248\n",
      "epoch[86/100]: loss_d: 0.78879790, loss_g: 1.88735848\n",
      "epoch[87/100]: loss_d: 0.78725484, loss_g: 1.87999087\n",
      "epoch[88/100]: loss_d: 0.79376760, loss_g: 1.86690381\n",
      "epoch[89/100]: loss_d: 0.79826206, loss_g: 1.87663071\n",
      "epoch[90/100]: loss_d: 0.80260684, loss_g: 1.85346622\n",
      "epoch[91/100]: loss_d: 0.80417519, loss_g: 1.84240173\n",
      "epoch[92/100]: loss_d: 0.81030761, loss_g: 1.83615570\n",
      "epoch[93/100]: loss_d: 0.80896284, loss_g: 1.81266798\n",
      "epoch[94/100]: loss_d: 0.81290823, loss_g: 1.83453402\n",
      "epoch[95/100]: loss_d: 0.81126713, loss_g: 1.81351042\n",
      "epoch[96/100]: loss_d: 0.81934212, loss_g: 1.79474429\n",
      "epoch[97/100]: loss_d: 0.81606361, loss_g: 1.80419737\n",
      "epoch[98/100]: loss_d: 0.81401963, loss_g: 1.80699548\n",
      "epoch[99/100]: loss_d: 0.81965705, loss_g: 1.79407837\n",
      "epoch[100/100]: loss_d: 0.81807943, loss_g: 1.81331126\n"
     ]
    }
   ],
   "source": [
    "n_epoch = 100\n",
    "D_losses, G_losses = [], []\n",
    "\n",
    "load_for_training = False\n",
    "\n",
    "if load_for_training:\n",
    "    D.load_state_dict(torch.load(model_name_D))\n",
    "    G.load_state_dict(torch.load(model_name_G))\n",
    "\n",
    "for epoch in range(n_epoch):\n",
    "    epoch += 1\n",
    "\n",
    "    D_losses_per_epoch, G_losses_per_epoch = [], []\n",
    "    for batch_idx, (x, _) in enumerate(train_loader):\n",
    "        x = x.to(device)\n",
    "        D.train()\n",
    "        G.train()\n",
    "\n",
    "        x = x * 2 - 1  # rescale input images from [0,1) to [-1, 1)\n",
    "\n",
    "        # Training of the Discriminator\n",
    "\n",
    "        D_optimizer.zero_grad()\n",
    "        D_real = D(x)\n",
    "        D_real_loss = real_loss(D_real, smooth=False)\n",
    "\n",
    "        z = np.random.uniform(-1, 1, size=(batch_size, z_dim))\n",
    "        z = torch.from_numpy(z).float().to(device)\n",
    "        fake_images = G(z)\n",
    "        D_fake = D(fake_images)\n",
    "        D_fake_loss = fake_loss(D_fake)\n",
    "\n",
    "        D_total_loss = D_fake_loss + D_real_loss\n",
    "        D_total_loss.backward()\n",
    "        D_optimizer.step()\n",
    "\n",
    "        # Training of the Generator\n",
    "\n",
    "        G_optimizer.zero_grad()\n",
    "        z = np.random.uniform(-1, 1, size=(batch_size, z_dim))\n",
    "        z = torch.from_numpy(z).float().to(device)\n",
    "\n",
    "        fake_images = G(z)\n",
    "\n",
    "        D_fake = D(fake_images)\n",
    "        G_loss = real_loss(D_fake)\n",
    "        G_loss.backward()\n",
    "        G_optimizer.step()\n",
    "\n",
    "        D_losses_per_epoch.append(D_total_loss.item())\n",
    "        G_losses_per_epoch.append(G_loss.item())\n",
    "\n",
    "    mean_D_loss = np.mean(D_losses_per_epoch)\n",
    "    mean_G_loss = np.mean(G_losses_per_epoch)\n",
    "\n",
    "    D_losses.append(mean_D_loss)\n",
    "    G_losses.append(mean_G_loss)\n",
    "\n",
    "    print('epoch[%d/%d]: loss_d: %.8f, loss_g: %.8f' %\n",
    "          ((epoch), n_epoch, mean_D_loss, mean_G_loss))\n",
    "\n",
    "    with torch.no_grad():\n",
    "        test_z = np.random.uniform(-1, 1, size=(batch_size, z_dim))\n",
    "        test_z = torch.from_numpy(test_z).float().to(device)\n",
    "        G.eval()\n",
    "        generated = G(test_z)\n",
    "        save_image(\n",
    "            generated.view(generated.size(0), 1, image_dim_w, image_dim_h),\n",
    "            './{}/image_{}.png'.format(gan_out_dir, get_current_time_str()))\n",
    "    torch.save(G.state_dict(), model_name_G)\n",
    "    torch.save(D.state_dict(), model_name_D)"
   ]
  },
  {
   "cell_type": "code",
   "execution_count": 9,
   "metadata": {
    "scrolled": false
   },
   "outputs": [
    {
     "data": {
      "text/plain": [
       "<matplotlib.legend.Legend at 0x7fa2cda89748>"
      ]
     },
     "execution_count": 9,
     "metadata": {},
     "output_type": "execute_result"
    },
    {
     "data": {
      "image/png": "[encoded data removed]",
      "text/plain": [
       "<Figure size 432x288 with 1 Axes>"
      ]
     },
     "metadata": {
      "needs_background": "light"
     },
     "output_type": "display_data"
    }
   ],
   "source": [
    "fig, ax = plt.subplots()\n",
    "\n",
    "D_losses = np.array(D_losses)\n",
    "G_losses = np.array(G_losses)\n",
    "\n",
    "plt.plot(D_losses, label='Discriminator')\n",
    "plt.plot(G_losses, label='Generator')\n",
    "plt.title(\"Training Losses\")\n",
    "plt.legend()"
   ]
  },
  {
   "cell_type": "markdown",
   "metadata": {},
   "source": [
    "# Generate sample output from trained Generator Model"
   ]
  },
  {
   "cell_type": "code",
   "execution_count": 11,
   "metadata": {},
   "outputs": [],
   "source": [
    "sample_count = 10\n",
    "for fc in range(sample_count):\n",
    "    with torch.no_grad():\n",
    "        G.eval()\n",
    "        test_z = np.random.uniform(-1, 1, size=(batch_size, z_dim))\n",
    "        test_z = torch.from_numpy(test_z).float().to(device)\n",
    "        generated = G(test_z)\n",
    "\n",
    "        save_image(generated.view(generated.size(0), 1, image_dim_w, image_dim_h),\n",
    "                    './{}/final_{}_{}.png'.format(gan_out_dir, fc, get_current_time_str()))"
   ]
  },
  {
   "cell_type": "markdown",
   "metadata": {},
   "source": [
    "# Save Sample inputs"
   ]
  },
  {
   "cell_type": "code",
   "execution_count": 13,
   "metadata": {},
   "outputs": [],
   "source": [
    "train_iter = iter(train_loader)\n",
    "data, _ = train_iter.next()\n",
    "save_image(data.view(data.size(0), 1, image_dim_w, image_dim_h),\n",
    "                    './{}/orig_{}.png'.format(gan_out_dir, get_current_time_str()))"
   ]
  },
  {
   "cell_type": "code",
   "execution_count": null,
   "metadata": {},
   "outputs": [],
   "source": []
  }
 ],
 "metadata": {
  "kernelspec": {
   "display_name": "Python 3",
   "language": "python",
   "name": "python3"
  },
  "language_info": {
   "codemirror_mode": {
    "name": "ipython",
    "version": 3
   },
   "file_extension": ".py",
   "mimetype": "text/x-python",
   "name": "python",
   "nbconvert_exporter": "python",
   "pygments_lexer": "ipython3",
   "version": "3.6.10"
  },
  "varInspector": {
   "cols": {
    "lenName": 16,
    "lenType": 16,
    "lenVar": 40
   },
   "kernels_config": {
    "python": {
     "delete_cmd_postfix": "",
     "delete_cmd_prefix": "del ",
     "library": "var_list.py",
     "varRefreshCmd": "print(var_dic_list())"
    },
    "r": {
     "delete_cmd_postfix": ") ",
     "delete_cmd_prefix": "rm(",
     "library": "var_list.r",
     "varRefreshCmd": "cat(var_dic_list()) "
    }
   },
   "types_to_exclude": [
    "module",
    "function",
    "builtin_function_or_method",
    "instance",
    "_Feature"
   ],
   "window_display": false
  }
 },
 "nbformat": 4,
 "nbformat_minor": 2
}
